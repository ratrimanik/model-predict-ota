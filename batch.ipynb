{
 "cells": [
  {
   "cell_type": "code",
   "execution_count": 1,
   "id": "5972a84b",
   "metadata": {},
   "outputs": [
    {
     "name": "stdout",
     "output_type": "stream",
     "text": [
      "[traveloka] batch kolom ditambahkan.\n",
      "[tiket] batch kolom ditambahkan.\n",
      "[agoda] batch kolom ditambahkan.\n"
     ]
    }
   ],
   "source": [
    "import pandas as pd\n",
    "import os\n",
    "\n",
    "sources = ['traveloka', 'tiket', 'agoda']\n",
    "\n",
    "for source in sources:\n",
    "    path = os.path.join(source, 'kategori.xlsx')\n",
    "    if os.path.exists(path):\n",
    "        df = pd.read_excel(path)\n",
    "        if 'batch' not in df.columns:\n",
    "            df['batch'] = 1  # Semua dianggap batch pertama\n",
    "            df.to_excel(path, index=False)\n",
    "            print(f\"[{source}] batch kolom ditambahkan.\")\n",
    "        else:\n",
    "            print(f\"[{source}] sudah ada kolom batch.\")\n"
   ]
  },
  {
   "cell_type": "code",
   "execution_count": 3,
   "id": "7dcf1beb",
   "metadata": {},
   "outputs": [
    {
     "name": "stdout",
     "output_type": "stream",
     "text": [
      "Kolom tersedia: ['sentiment', 'kategori', 'review', 'tanggal', 'batch']\n"
     ]
    }
   ],
   "source": [
    "import pandas as pd\n",
    "\n",
    "df = pd.read_excel(\"traveloka/kategori.xlsx\")\n",
    "print(\"Kolom tersedia:\", df.columns.tolist())\n"
   ]
  }
 ],
 "metadata": {
  "kernelspec": {
   "display_name": "Python 3",
   "language": "python",
   "name": "python3"
  },
  "language_info": {
   "codemirror_mode": {
    "name": "ipython",
    "version": 3
   },
   "file_extension": ".py",
   "mimetype": "text/x-python",
   "name": "python",
   "nbconvert_exporter": "python",
   "pygments_lexer": "ipython3",
   "version": "3.12.3"
  }
 },
 "nbformat": 4,
 "nbformat_minor": 5
}
