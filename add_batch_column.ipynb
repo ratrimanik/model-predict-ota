import pandas as pd
import os

sources = ['traveloka', 'tiket', 'agoda']

for source in sources:
    path = os.path.join(source, 'kategori.xlsx')
    if os.path.exists(path):
        df = pd.read_excel(path)
        if 'batch' not in df.columns:
            df['batch'] = 1  # Semua dianggap batch pertama
            df.to_excel(path, index=False)
            print(f"[{source}] batch kolom ditambahkan.")
        else:
            print(f"[{source}] sudah ada kolom batch.")
