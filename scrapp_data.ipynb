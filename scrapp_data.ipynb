{
 "cells": [
  {
   "cell_type": "markdown",
   "id": "8d6cbc9a",
   "metadata": {},
   "source": [
    "### DATA SCRAPING "
   ]
  },
  {
   "cell_type": "markdown",
   "id": "263217eb",
   "metadata": {},
   "source": [
    "###### ID Aplikasi PlayStore"
   ]
  },
  {
   "cell_type": "code",
   "execution_count": 1,
   "id": "bb648c4c",
   "metadata": {},
   "outputs": [],
   "source": [
    "# 1. Traveloka: com.traveloka.android\n",
    "# 2. Tiket.com: com.tiket.gits\n",
    "# 3. Agoda: com.agoda.mobile.consumer"
   ]
  },
  {
   "cell_type": "markdown",
   "id": "f38646f0",
   "metadata": {},
   "source": [
    "###### Import Library Python"
   ]
  },
  {
   "cell_type": "code",
   "execution_count": 2,
   "id": "0afb7aae",
   "metadata": {},
   "outputs": [
    {
     "name": "stdout",
     "output_type": "stream",
     "text": [
      "Requirement already satisfied: google-play-scraper in c:\\laragon\\bin\\python\\python-3.10\\lib\\site-packages (1.2.7)\n"
     ]
    },
    {
     "name": "stderr",
     "output_type": "stream",
     "text": [
      "\n",
      "[notice] A new release of pip is available: 25.0.1 -> 25.1.1\n",
      "[notice] To update, run: python.exe -m pip install --upgrade pip\n"
     ]
    },
    {
     "name": "stdout",
     "output_type": "stream",
     "text": [
      "Requirement already satisfied: openpyxl in c:\\laragon\\bin\\python\\python-3.10\\lib\\site-packages (3.1.5)\n",
      "Requirement already satisfied: et-xmlfile in c:\\laragon\\bin\\python\\python-3.10\\lib\\site-packages (from openpyxl) (2.0.0)\n"
     ]
    },
    {
     "name": "stderr",
     "output_type": "stream",
     "text": [
      "\n",
      "[notice] A new release of pip is available: 25.0.1 -> 25.1.1\n",
      "[notice] To update, run: python.exe -m pip install --upgrade pip\n"
     ]
    }
   ],
   "source": [
    "! pip install google-play-scraper\n",
    "! pip install openpyxl"
   ]
  },
  {
   "cell_type": "code",
   "execution_count": null,
   "id": "30a95447",
   "metadata": {},
   "outputs": [],
   "source": [
    "from google_play_scraper import app, Sort, reviews\n",
    "import pandas as pd\n",
    "import os\n",
    "import datetime as dt\n",
    "import numpy as np"
   ]
  },
  {
   "cell_type": "markdown",
   "id": "da51c9c0",
   "metadata": {},
   "source": [
    "###### Get Raw Data From Playstore"
   ]
  },
  {
   "cell_type": "code",
   "execution_count": null,
   "id": "dbaadcac",
   "metadata": {},
   "outputs": [
    {
     "name": "stdout",
     "output_type": "stream",
     "text": [
      "Jumlah ulasan:  1000\n",
      "Contoh ulasan:\n",
      "{'reviewId': '499b5f5f-f826-4762-905e-332c4bc3f835', 'userName': 'Vicky Haan', 'userImage': 'https://play-lh.googleusercontent.com/a-/ALV-UjXwc2veuvhxEIBgO69k3fwT8hxekdisWQav1TRi3jv8fgK-bxGj', 'content': 'Ada biaya layanan otomatis lah, biaya asuransi otomatis lah, padahal pelayanan maskapai tidak begitu baik dan bahkan sering sekali delay/menunda jam keberangkatan hanya untuk keuntungan pribadi. Juga, para flight attendants di maskapai Lion Air sering cuek bebek dan sinis/pasang muka malas ketika dimintai tolong. Kiranya Tuhan berkati kalian di dalam pekerjaan kalian dengan motivasi yang kalian punya.', 'score': 2, 'thumbsUpCount': 10, 'reviewCreatedVersion': '5.21.0', 'at': datetime.datetime(2025, 6, 10, 6, 10, 24), 'replyContent': 'Hai Vicky, kami mohon maaf terkait masalah dengan pemesanan Anda. Sayangnya, kami tidak dapat menemukan kasus yang sesuai dengan deskripsi Anda di sistem kami. Untuk membantu kami memahami kendala yang Anda alami, silakan hubungi kami melalui email cs@traveloka.com. Tim kami siap membantu Anda dan mencari solusi terbaik. Terima kasih. -IF', 'repliedAt': datetime.datetime(2025, 6, 10, 7, 2, 7), 'appVersion': '5.21.0'}\n"
     ]
    }
   ],
   "source": [
    "app_id = 'com.traveloka.android'\n",
    "\n",
    "def get_reviews(app_id):\n",
    "    try:\n",
    "        result, continuation_token = reviews(\n",
    "            app_id,\n",
    "            lang='id',\n",
    "            country='id',\n",
    "            sort=Sort.MOST_RELEVANT,\n",
    "            count=1000,\n",
    "            filter_score_with=None,\n",
    "            filter_device_with=None,\n",
    "            continuation_token=None\n",
    "        )\n",
    "        return result, continuation_token\n",
    "    except Exception as e: \n",
    "        print(\"Error: \", e)\n",
    "        return None, None\n",
    "    \n",
    "reviews, continuation_token = get_reviews(app_id)\n",
    "\n",
    "if reviews is not None:\n",
    "    print(\"Jumlah ulasan: \", len(reviews))\n",
    "    if len(reviews) > 0:\n",
    "        print(\"Contoh ulasan:\")\n",
    "        print(reviews[0])\n",
    "\n",
    "else:\n",
    "    print(\"Tidak dapat mengambil ulasan.\")"
   ]
  },
  {
   "cell_type": "code",
   "execution_count": 5,
   "id": "89db0a40",
   "metadata": {},
   "outputs": [
    {
     "name": "stdout",
     "output_type": "stream",
     "text": [
      "Data berhasil disimpan di dataset/trying\\rawdata.xlsx\n"
     ]
    }
   ],
   "source": [
    "folder_path = 'dataset/trying'\n",
    "file_name = 'rawdata.xlsx'\n",
    "full_path = os.path.join(folder_path, file_name)\n",
    "\n",
    "def save_to_excel(reviews, full_path):\n",
    "    if reviews:\n",
    "        df = pd.DataFrame(reviews)\n",
    "\n",
    "        df = df[['reviewId', 'userName', 'score', 'content', 'at']]\n",
    "        df.rename(columns={\n",
    "            'reviewId': 'Review ID',\n",
    "            'userName': 'Username',\n",
    "            'score': 'Rating',\n",
    "            'content': 'Review Text',\n",
    "            'at': 'Date'\n",
    "        }, inplace=True)\n",
    "        \n",
    "        df.to_excel(full_path, index=False)\n",
    "        print(f\"Data berhasil disimpan di {full_path}\")\n",
    "    else:\n",
    "        print(\"Tidak ada data untuk disimpan.\")\n",
    "\n",
    "save_to_excel(reviews, full_path)\n"
   ]
  },
  {
   "cell_type": "code",
   "execution_count": 6,
   "id": "b6d0d413",
   "metadata": {},
   "outputs": [
    {
     "name": "stdout",
     "output_type": "stream",
     "text": [
      "<class 'pandas.core.frame.DataFrame'>\n",
      "RangeIndex: 1000 entries, 0 to 999\n",
      "Data columns (total 5 columns):\n",
      " #   Column       Non-Null Count  Dtype         \n",
      "---  ------       --------------  -----         \n",
      " 0   Review ID    1000 non-null   object        \n",
      " 1   Username     1000 non-null   object        \n",
      " 2   Rating       1000 non-null   int64         \n",
      " 3   Review Text  1000 non-null   object        \n",
      " 4   Date         1000 non-null   datetime64[ns]\n",
      "dtypes: datetime64[ns](1), int64(1), object(3)\n",
      "memory usage: 39.2+ KB\n"
     ]
    }
   ],
   "source": [
    "data = pd.read_excel(full_path)\n",
    "data.info()"
   ]
  },
  {
   "cell_type": "code",
   "execution_count": 57,
   "id": "9641f5ff",
   "metadata": {},
   "outputs": [
    {
     "data": {
      "text/html": [
       "<div>\n",
       "<style scoped>\n",
       "    .dataframe tbody tr th:only-of-type {\n",
       "        vertical-align: middle;\n",
       "    }\n",
       "\n",
       "    .dataframe tbody tr th {\n",
       "        vertical-align: top;\n",
       "    }\n",
       "\n",
       "    .dataframe thead th {\n",
       "        text-align: right;\n",
       "    }\n",
       "</style>\n",
       "<table border=\"1\" class=\"dataframe\">\n",
       "  <thead>\n",
       "    <tr style=\"text-align: right;\">\n",
       "      <th></th>\n",
       "      <th>Review ID</th>\n",
       "      <th>Username</th>\n",
       "      <th>Rating</th>\n",
       "      <th>Review Text</th>\n",
       "      <th>Date</th>\n",
       "    </tr>\n",
       "  </thead>\n",
       "  <tbody>\n",
       "    <tr>\n",
       "      <th>0</th>\n",
       "      <td>d0becb60-47e5-4c2e-be5c-df65b6381940</td>\n",
       "      <td>Hadi Prastowo</td>\n",
       "      <td>1</td>\n",
       "      <td>KECEWA BANGET, NOTRecommended banget lah ini b...</td>\n",
       "      <td>2025-04-19 02:54:23</td>\n",
       "    </tr>\n",
       "    <tr>\n",
       "      <th>1</th>\n",
       "      <td>74aba320-ea79-496a-b76a-4a8442e1eb7a</td>\n",
       "      <td>dedek syahputra</td>\n",
       "      <td>1</td>\n",
       "      <td>Ngga abis fikir sama aplikasi ini..memang Saya...</td>\n",
       "      <td>2025-03-31 23:03:22</td>\n",
       "    </tr>\n",
       "    <tr>\n",
       "      <th>2</th>\n",
       "      <td>0376af83-8d15-48e6-954f-81c5fe32c52c</td>\n",
       "      <td>danis indrawati</td>\n",
       "      <td>1</td>\n",
       "      <td>pesan Tiket pesawat dari aplikasi agoda dan pe...</td>\n",
       "      <td>2025-05-05 17:01:42</td>\n",
       "    </tr>\n",
       "    <tr>\n",
       "      <th>3</th>\n",
       "      <td>afcb5ea1-43ba-47ef-85e1-ec470fb9e3d7</td>\n",
       "      <td>Yopi Yulian</td>\n",
       "      <td>1</td>\n",
       "      <td>Aplikasi booking hotel terburuk yg pernah saya...</td>\n",
       "      <td>2025-03-18 09:29:52</td>\n",
       "    </tr>\n",
       "    <tr>\n",
       "      <th>4</th>\n",
       "      <td>6b81693e-b2d6-455b-9c6c-527a7cbb6b40</td>\n",
       "      <td>Heni Apriliyani</td>\n",
       "      <td>1</td>\n",
       "      <td>sangat kecewa pesan hotel dua hotel,,di batalk...</td>\n",
       "      <td>2025-04-02 17:08:14</td>\n",
       "    </tr>\n",
       "  </tbody>\n",
       "</table>\n",
       "</div>"
      ],
      "text/plain": [
       "                              Review ID         Username  Rating  \\\n",
       "0  d0becb60-47e5-4c2e-be5c-df65b6381940    Hadi Prastowo       1   \n",
       "1  74aba320-ea79-496a-b76a-4a8442e1eb7a  dedek syahputra       1   \n",
       "2  0376af83-8d15-48e6-954f-81c5fe32c52c  danis indrawati       1   \n",
       "3  afcb5ea1-43ba-47ef-85e1-ec470fb9e3d7      Yopi Yulian       1   \n",
       "4  6b81693e-b2d6-455b-9c6c-527a7cbb6b40  Heni Apriliyani       1   \n",
       "\n",
       "                                         Review Text                Date  \n",
       "0  KECEWA BANGET, NOTRecommended banget lah ini b... 2025-04-19 02:54:23  \n",
       "1  Ngga abis fikir sama aplikasi ini..memang Saya... 2025-03-31 23:03:22  \n",
       "2  pesan Tiket pesawat dari aplikasi agoda dan pe... 2025-05-05 17:01:42  \n",
       "3  Aplikasi booking hotel terburuk yg pernah saya... 2025-03-18 09:29:52  \n",
       "4  sangat kecewa pesan hotel dua hotel,,di batalk... 2025-04-02 17:08:14  "
      ]
     },
     "execution_count": 57,
     "metadata": {},
     "output_type": "execute_result"
    }
   ],
   "source": [
    "data.head()"
   ]
  }
 ],
 "metadata": {
  "kernelspec": {
   "display_name": "Python 3",
   "language": "python",
   "name": "python3"
  },
  "language_info": {
   "codemirror_mode": {
    "name": "ipython",
    "version": 3
   },
   "file_extension": ".py",
   "mimetype": "text/x-python",
   "name": "python",
   "nbconvert_exporter": "python",
   "pygments_lexer": "ipython3",
   "version": "3.10.6"
  }
 },
 "nbformat": 4,
 "nbformat_minor": 5
}
